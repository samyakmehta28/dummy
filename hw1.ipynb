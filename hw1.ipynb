{
 "cells": [
  {
   "cell_type": "code",
   "execution_count": 1,
   "id": "a2e5df3e",
   "metadata": {},
   "outputs": [],
   "source": [
    "import json\n",
    "from collections import defaultdict\n",
    "from sklearn import linear_model\n",
    "from sklearn.metrics import mean_squared_error\n",
    "from sklearn.metrics import confusion_matrix, balanced_accuracy_score\n",
    "import numpy as np\n",
    "import random\n",
    "import gzip\n",
    "import dateutil.parser\n",
    "import math\n",
    "import matplotlib.pyplot as plt\n",
    "import string\n",
    "import time"
   ]
  },
  {
   "cell_type": "code",
   "execution_count": 2,
   "id": "3070a498",
   "metadata": {},
   "outputs": [],
   "source": [
    "time1 = time.time()\n",
    "with open('hw1_word_counts_05.txt') as f:\n",
    "    lines = f.readlines()"
   ]
  },
  {
   "cell_type": "code",
   "execution_count": 3,
   "id": "5eb094fe",
   "metadata": {},
   "outputs": [],
   "source": [
    "words = []\n",
    "count_of_words = []\n",
    "for i in range(len(lines)):\n",
    "    words.append(lines[i].split()[0])\n",
    "    count_of_words.append((int)(lines[i].split()[1]))"
   ]
  },
  {
   "cell_type": "code",
   "execution_count": 4,
   "id": "485912b2",
   "metadata": {},
   "outputs": [],
   "source": [
    "prob_word = {}\n",
    "cumulative_sum =sum(count_of_words)\n",
    "#checker=0\n",
    "for i in range(len(words)):\n",
    "    prob_word[words[i]] = count_of_words[i]/cumulative_sum\n",
    "    #checker=checker+prob_word[words[i]]"
   ]
  },
  {
   "cell_type": "code",
   "execution_count": null,
   "id": "108aada4",
   "metadata": {},
   "outputs": [],
   "source": []
  },
  {
   "cell_type": "code",
   "execution_count": 5,
   "id": "672f5b27",
   "metadata": {},
   "outputs": [],
   "source": [
    "part_a = []\n",
    "for i in range(len(words)):\n",
    "    part_a.append(((int)(count_of_words[i]),(words[i])))\n",
    "part_a = sorted(part_a, key=lambda i: (i[0], i[1]))\n",
    "least_frequent_14 = part_a[:14]\n",
    "most_frequent_15 = part_a[len(part_a)-15:]\n",
    "most_frequent_15.reverse()"
   ]
  },
  {
   "cell_type": "code",
   "execution_count": 6,
   "id": "782a4d7c",
   "metadata": {},
   "outputs": [],
   "source": [
    "#words = np.array(words)\n",
    "#words = words.reshape(-1,1)\n",
    "#count_of_words = np.array(count_of_words)\n",
    "#count_of_words = count_of_words.reshape(-1,1)"
   ]
  },
  {
   "cell_type": "code",
   "execution_count": 7,
   "id": "21664fb9",
   "metadata": {
    "scrolled": true
   },
   "outputs": [
    {
     "name": "stdout",
     "output_type": "stream",
     "text": [
      "The fourteen least frequency words are:\n",
      "Word     count_in_file        Prior_Probability P(W=word)\n",
      "------------------------------------------------------------------------\n",
      "BOSAK    6                    7.827934689453437e-07\n",
      "CAIXA    6                    7.827934689453437e-07\n",
      "MAPCO    6                    7.827934689453437e-07\n",
      "OTTIS    6                    7.827934689453437e-07\n",
      "TROUP    6                    7.827934689453437e-07\n",
      "CCAIR    7                    9.13259047102901e-07\n",
      "CLEFT    7                    9.13259047102901e-07\n",
      "FABRI    7                    9.13259047102901e-07\n",
      "FOAMY    7                    9.13259047102901e-07\n",
      "NIAID    7                    9.13259047102901e-07\n",
      "PAXON    7                    9.13259047102901e-07\n",
      "SERNA    7                    9.13259047102901e-07\n",
      "TOCOR    7                    9.13259047102901e-07\n",
      "YALOM    7                    9.13259047102901e-07\n"
     ]
    }
   ],
   "source": [
    "print(\"The fourteen least frequency words are:\")\n",
    "print (\"{:<8} {:<20} {:<10}\".format('Word','count_in_file','Prior_Probability P(W=word)'))\n",
    "print(\"------------------------------------------------------------------------\")\n",
    "for i in range(len(least_frequent_14)):\n",
    "    word = least_frequent_14[i][1]\n",
    "    count = least_frequent_14[i][0]\n",
    "    prob = prob_word[word]\n",
    "    print(\"{:<8} {:<20} {:<10}\".format(word,count,prob))"
   ]
  },
  {
   "cell_type": "code",
   "execution_count": 8,
   "id": "0cdb7bcd",
   "metadata": {},
   "outputs": [
    {
     "name": "stdout",
     "output_type": "stream",
     "text": [
      "The fifteen most frequency words are:\n",
      "Word     count_in_file        Prior_Probability P(W=word)\n",
      "------------------------------------------------------------------------\n",
      "THREE    273077               0.03562714868653127\n",
      "SEVEN    178842               0.023332724928853858\n",
      "EIGHT    165764               0.021626496097709325\n",
      "WOULD    159875               0.02085818430793947\n",
      "ABOUT    157448               0.020541544349751077\n",
      "THEIR    145434               0.018974130893766185\n",
      "WHICH    142146               0.018545160072784138\n",
      "AFTER    110102               0.01436452108630337\n",
      "FIRST    109957               0.014345603577470525\n",
      "FIFTY    106869               0.013942725872119989\n",
      "OTHER    106052               0.013836135494765265\n",
      "FORTY    94951                0.012387837111638222\n",
      "YEARS    88900                0.011598389898206841\n",
      "THERE    86502                0.01128553344178502\n",
      "SIXTY    73086                0.009535207245223231\n"
     ]
    }
   ],
   "source": [
    "print(\"The fifteen most frequency words are:\")\n",
    "print (\"{:<8} {:<20} {:<10}\".format('Word','count_in_file','Prior_Probability P(W=word)'))\n",
    "print(\"------------------------------------------------------------------------\")\n",
    "for i in range(len(most_frequent_15)):\n",
    "    word = most_frequent_15[i][1]\n",
    "    count = most_frequent_15[i][0]\n",
    "    prob = prob_word[word]\n",
    "    print(\"{:<8} {:<20} {:<10}\".format(word,count,prob))"
   ]
  },
  {
   "cell_type": "code",
   "execution_count": 9,
   "id": "4dbdcbc2",
   "metadata": {},
   "outputs": [],
   "source": [
    "correctly_guessed_list = [[],[],[['A',0],['S',4]],[['A',0],['S',4]],[['O',2]],[],[['D',0],['I',3]],[['D',0],['I',3]],[['U',1]]]\n",
    "incorrectly_guessed_list = [[],['E','A'],[],['I'],['A','E','M','N','T'],['E','O'],[],['A'],['A','E','I','O','S']]"
   ]
  },
  {
   "cell_type": "code",
   "execution_count": 10,
   "id": "847d38de",
   "metadata": {},
   "outputs": [],
   "source": [
    "#calc denom of bayes\n",
    "#loop through every word and calc prob for bayes for each word and make a dp list\n",
    "#loop through every char possible\n",
    "    #loop through words and search for current char feasabiliy\n",
    "# calc total prob, update if max for each char"
   ]
  },
  {
   "cell_type": "code",
   "execution_count": 11,
   "id": "1863764f",
   "metadata": {},
   "outputs": [],
   "source": [
    "def calculate_bayes_probability(correctly_guessed, incorrectly_guessed, words, prob_word):\n",
    "    ind = [0,1,2,3,4]\n",
    "    empty_ind = []\n",
    "    numerator = []\n",
    "    for i in range(5):\n",
    "        to_include = True\n",
    "        for j in range(len(correctly_guessed)):\n",
    "            if correctly_guessed[j][1] == i:\n",
    "                to_include=False\n",
    "        if to_include==True:\n",
    "            empty_ind.append(i)\n",
    "                \n",
    "    denom=0\n",
    "    #print(empty_ind)\n",
    "    for word in words:\n",
    "        #print(word)\n",
    "        to_consider = True;\n",
    "        for i in range(len(correctly_guessed)):\n",
    "            if word[correctly_guessed[i][1]]!=correctly_guessed[i][0]:\n",
    "                to_consider=False\n",
    "        if to_consider == True:\n",
    "            #print(\"here\")\n",
    "            for i in range(len(empty_ind)):\n",
    "                for j in range(len(correctly_guessed)):\n",
    "                    if word[empty_ind[i]]==correctly_guessed[j][0]:\n",
    "                        #print(word,word[i],correctly_guessed[j][0])\n",
    "                        to_consider=False\n",
    "                for j in range(len(incorrectly_guessed)):\n",
    "                    if word[empty_ind[i]]==incorrectly_guessed[j]:\n",
    "                        to_consider=False\n",
    "                if to_consider == False:\n",
    "                    break\n",
    "        if to_consider == True:\n",
    "            numerator.append(prob_word[word])\n",
    "            denom = denom + prob_word[word]\n",
    "        else:\n",
    "            numerator.append(0)\n",
    "            \n",
    "    bayes_probability = {}\n",
    "    for i in range(len(words)):\n",
    "        bayes_probability[words[i]] = (numerator[i]+0.0)/denom\n",
    "\n",
    "    return bayes_probability\n",
    "            \n",
    "                "
   ]
  },
  {
   "cell_type": "code",
   "execution_count": 12,
   "id": "a2f5e1ae",
   "metadata": {},
   "outputs": [],
   "source": [
    "def compute_prob_for_letter(guess_letter,words,bayes_probablity,correctly_guessed):\n",
    "    #letter should not be in correctly_guessed_position\n",
    "    ind = [0,1,2,3,4]\n",
    "    empty_ind = []\n",
    "    for i in range(5):\n",
    "        to_include = True\n",
    "        for j in range(len(correctly_guessed)):\n",
    "            if correctly_guessed[j][1] == i:\n",
    "                to_include=False\n",
    "        if to_include==True:\n",
    "            empty_ind.append(i)\n",
    "            \n",
    "    prob_guess_letter=0\n",
    "    for word in words:\n",
    "        to_consider=False\n",
    "        for i in range(len(empty_ind)):\n",
    "            if word[empty_ind[i]]==guess_letter:\n",
    "                to_consider=True\n",
    "        if to_consider==True:\n",
    "            prob_guess_letter=prob_guess_letter+bayes_probability[word]\n",
    "            \n",
    "    return prob_guess_letter"
   ]
  },
  {
   "cell_type": "code",
   "execution_count": 13,
   "id": "3dff4f8e",
   "metadata": {},
   "outputs": [
    {
     "name": "stdout",
     "output_type": "stream",
     "text": [
      "Case     best_next_guess      P(Li=l/E) \n",
      "-----------------------------------------------\n",
      "1        E                    0.5394172389647948\n",
      "2        O                    0.5340315651557679\n",
      "3        E                    0.7715371621621622\n",
      "4        E                    0.7127008416220354\n",
      "5        R                    0.7453866259829711\n",
      "6        I                    0.6365554141009618\n",
      "7        A                    0.8206845238095241\n",
      "8        E                    0.7520746887966806\n",
      "9        Y                    0.6269651101630528\n"
     ]
    }
   ],
   "source": [
    "print (\"{:<8} {:<20} {:<10}\".format('Case','best_next_guess','P(Li=l/E)'))\n",
    "print(\"-----------------------------------------------\")\n",
    "for i in range(len(correctly_guessed_list)):\n",
    "    correctly_guessed=correctly_guessed_list[i]\n",
    "    incorrectly_guessed=incorrectly_guessed_list[i]\n",
    "    bayes_probability = calculate_bayes_probability(correctly_guessed, incorrectly_guessed, words, prob_word)\n",
    "    \n",
    "    possible_char = list(string.ascii_uppercase)\n",
    "    maximum_prob=0\n",
    "    next_guess=''\n",
    "    for char in possible_char:\n",
    "        to_consider=True\n",
    "        for j in range(len(correctly_guessed)):\n",
    "            if correctly_guessed[j][0] == char:\n",
    "                to_consider=False\n",
    "                break\n",
    "        if to_consider==True:\n",
    "            for j in range(len(incorrectly_guessed)):\n",
    "                if incorrectly_guessed[j] == char:\n",
    "                    to_consider=False\n",
    "                    break\n",
    "        if to_consider==True:\n",
    "            prob_for_curr_letter = compute_prob_for_letter(char,words,bayes_probability,correctly_guessed)\n",
    "            if maximum_prob<prob_for_curr_letter:\n",
    "                maximum_prob=prob_for_curr_letter\n",
    "                next_guess=char\n",
    "\n",
    "    print(\"{:<8} {:<20} {:<10}\".format(i+1,next_guess,maximum_prob))                "
   ]
  },
  {
   "cell_type": "code",
   "execution_count": 14,
   "id": "a12c5236",
   "metadata": {},
   "outputs": [
    {
     "name": "stdout",
     "output_type": "stream",
     "text": [
      "0.7040538787841797\n"
     ]
    }
   ],
   "source": [
    "time2 = time.time()\n",
    "print(time2-time1)"
   ]
  }
 ],
 "metadata": {
  "kernelspec": {
   "display_name": "Python 3 (ipykernel)",
   "language": "python",
   "name": "python3"
  },
  "language_info": {
   "codemirror_mode": {
    "name": "ipython",
    "version": 3
   },
   "file_extension": ".py",
   "mimetype": "text/x-python",
   "name": "python",
   "nbconvert_exporter": "python",
   "pygments_lexer": "ipython3",
   "version": "3.11.4"
  }
 },
 "nbformat": 4,
 "nbformat_minor": 5
}
